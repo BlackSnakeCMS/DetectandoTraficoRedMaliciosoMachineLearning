{
 "cells": [
  {
   "cell_type": "code",
   "execution_count": 16,
   "metadata": {},
   "outputs": [],
   "source": [
    "from keras.optimizers import Adam, RMSprop\n",
    "from keras import layers\n",
    "from keras.preprocessing.text import Tokenizer\n",
    "from keras.models import Sequential\n",
    "from keras import regularizers\n",
    "import pandas as pd\n",
    "import time,os\n",
    "import numpy as np\n",
    "from sklearn.preprocessing import StandardScaler, OneHotEncoder\n",
    "import matplotlib.pyplot as plt\n",
    "%matplotlib inline"
   ]
  },
  {
   "cell_type": "code",
   "execution_count": 9,
   "metadata": {},
   "outputs": [],
   "source": [
    "data_path = 'data'\n",
    "train_path = os.path.join(data_path,'train.txt')\n",
    "test_path = os.path.join(data_path,'test.txt')"
   ]
  },
  {
   "cell_type": "code",
   "execution_count": 10,
   "metadata": {},
   "outputs": [],
   "source": [
    "columns = [\"duration\",\"protocol_type\",\"service\",\"flag\",\"src_bytes\",\"dst_bytes\",\"land\",\"wrong_fragment\",\"urgent\",\"hot\",\"num_failed_logins\",\"logged_in\",\"num_compromised\",\"root_shell\",\"su_attempted\",\"num_root\",\"num_file_creations\",\"num_shells\",\"num_access_files\",\"num_outbound_cmds\",\"is_host_login\",\"is_guest_login\",\"count\",\"srv_count\",\"error_rate\", \"srv_serror_rate\",\"rerror_rate\",\"srv_rerror_rate\",\"same_srv_rate\", \"diff_srv_rate\",\"srv_diff_host_rate\",\"dst_host_count\",\"dst_host_srv_count\",\"dst_host_same_srv_rate\",\"dst_host_diff_srv_rate\",\"dst_host_same_src_port_rate\",\"dst_host_srv_diff_host_rate\",\"dst_host_serror_rate\",\"dst_host_srv_serror_rate\",\"dst_host_rerror_rate\",\"dst_host_srv_rerror_rate\",\"attack\", \"last_flag\"]\n",
    "train_data = pd.read_csv(train_path)\n",
    "test_data = pd.read_csv(test_path)\n",
    "train_data.columns = columns\n",
    "test_data.columns = columns"
   ]
  },
  {
   "cell_type": "markdown",
   "metadata": {},
   "source": [
    "# Data Preprocessing"
   ]
  },
  {
   "cell_type": "code",
   "execution_count": 11,
   "metadata": {},
   "outputs": [],
   "source": [
    "# One-Hot encoding of labels\n",
    "train_Y = train_data.pop('attack').values\n",
    "test_Y = test_data.pop('attack').values\n",
    "\n",
    "train_Y = np.array(['attack' if t != 'normal' else t  for t in train_Y])\n",
    "test_Y = np.array(['attack' if t != 'normal' else t  for t in test_Y])\n",
    "ohe = OneHotEncoder()\n",
    "train_Y = ohe.fit_transform(train_Y.reshape(-1,1)).toarray()\n",
    "test_Y = ohe.fit_transform(test_Y.reshape(-1,1)).toarray()\n",
    "\n",
    "#train_X, train_Y = train_data.loc[:,train_data.columns != 'attack'].values, train_data['attack'].values\n",
    "#test_X, test_Y = test_data.loc[:,test_data.columns != 'attack'].values, test_data['attack'].values"
   ]
  },
  {
   "cell_type": "code",
   "execution_count": 12,
   "metadata": {},
   "outputs": [],
   "source": [
    "# One-Hot encoding of categorical/nominal features\n",
    "categorical_columns = ['protocol_type', 'service', 'flag']\n",
    "train_X_categorical = train_data.loc[:,categorical_columns].values\n",
    "test_X_categorical = test_data.loc[:,categorical_columns].values\n",
    "\n",
    "#train_X_categorical = ohe.fit_transform(train_X_categorical).toarray()\n",
    "#test_X_categorical = ohe.fit_transform(test_X_categorical).toarray()\n",
    "\n",
    "# Manual One-Hot Encoding\n",
    "train_X_services_size = len(set(train_X_categorical[:,1]))\n",
    "test_X_services_size = len(set(test_X_categorical[:,1]))\n",
    "                           \n",
    "if train_X_services_size > test_X_services_size:\n",
    "    services = list(set(train_X_categorical[:,1]))\n",
    "else:\n",
    "    services = list(set(test_X_categorical[:,1]))\n",
    "                    \n",
    "vector_size = max(train_X_services_size, test_X_services_size)\n",
    "train_one_hot_vector = np.zeros((train_X_categorical.shape[0],vector_size))\n",
    "test_one_hot_vector = np.zeros((test_X_categorical.shape[0],vector_size))\n",
    "\n",
    "for i,v in enumerate(train_X_categorical[:,1]):\n",
    "    service_index = services.index(v)\n",
    "    train_one_hot_vector[i][service_index] = 1\n",
    "                    \n",
    "for i,v in enumerate(test_X_categorical[:,1]):\n",
    "    service_index = services.index(v)\n",
    "    test_one_hot_vector[i][service_index] = 1\n",
    "\n",
    "train_X_categorical = train_one_hot_vector\n",
    "test_X_categorical = test_one_hot_vector"
   ]
  },
  {
   "cell_type": "code",
   "execution_count": 13,
   "metadata": {},
   "outputs": [],
   "source": [
    "# Normalization of numerical data\n",
    "numerical_columns = ['duration','src_bytes','dst_bytes', 'wrong_fragment', 'urgent', 'hot','num_failed_logins','num_compromised', 'num_root', 'num_file_creations','num_shells','num_access_files','num_outbound_cmds','count', 'srv_count', 'dst_host_count', 'dst_host_srv_count','last_flag']\n",
    "\n",
    "sc = StandardScaler()\n",
    "train_X_numerical = train_data.loc[:,numerical_columns].values\n",
    "test_X_numerical = test_data.loc[:,numerical_columns].values\n",
    "\n",
    "train_X_numerical = sc.fit_transform(train_X_numerical)\n",
    "test_X_numerical = sc.fit_transform(test_X_numerical)\n",
    "rate_columns = ['error_rate','srv_serror_rate', 'rerror_rate','srv_rerror_rate', 'same_srv_rate','diff_srv_rate','srv_diff_host_rate', 'dst_host_same_srv_rate','dst_host_diff_srv_rate', 'dst_host_same_src_port_rate', 'dst_host_srv_diff_host_rate','dst_host_serror_rate', 'dst_host_srv_serror_rate', 'dst_host_rerror_rate','dst_host_srv_rerror_rate']\n",
    "train_X_rate = train_data.loc[:,rate_columns].values\n",
    "test_X_rate = test_data.loc[:,rate_columns].values\n"
   ]
  },
  {
   "cell_type": "code",
   "execution_count": 14,
   "metadata": {},
   "outputs": [],
   "source": [
    "train_X = np.hstack((train_X_categorical,train_X_numerical,train_X_rate))\n",
    "test_X = np.hstack((test_X_categorical,test_X_numerical,test_X_rate))"
   ]
  },
  {
   "cell_type": "code",
   "execution_count": 91,
   "metadata": {},
   "outputs": [],
   "source": [
    "# Apparently you may use different seed values at each stage\n",
    "seed_value= 0\n",
    "\n",
    "# 1. Set `PYTHONHASHSEED` environment variable at a fixed value\n",
    "os.environ['PYTHONHASHSEED']=str(seed_value)\n",
    "\n",
    "# 2. Set `python` built-in pseudo-random generator at a fixed value\n",
    "import random\n",
    "random.seed(seed_value)\n",
    "\n",
    "# 3. Set `numpy` pseudo-random generator at a fixed value\n",
    "np.random.seed(seed_value)\n",
    "\n",
    "# 4. Set the `tensorflow` pseudo-random generator at a fixed value\n",
    "import tensorflow as tf\n",
    "tf.random.set_seed(seed_value)"
   ]
  },
  {
   "cell_type": "code",
   "execution_count": 161,
   "metadata": {},
   "outputs": [
    {
     "name": "stdout",
     "output_type": "stream",
     "text": [
      "Epoch 1/5\n",
      "493/493 [==============================] - 1s 3ms/step - loss: 0.1204 - acc: 0.9611 - val_loss: 0.6342 - val_acc: 0.8164\n",
      "Epoch 2/5\n",
      "493/493 [==============================] - 1s 2ms/step - loss: 0.1044 - acc: 0.9653 - val_loss: 0.6153 - val_acc: 0.8182\n",
      "Epoch 3/5\n",
      "493/493 [==============================] - 1s 2ms/step - loss: 0.1005 - acc: 0.9664 - val_loss: 0.6825 - val_acc: 0.8236\n",
      "Epoch 4/5\n",
      "493/493 [==============================] - 1s 3ms/step - loss: 0.1010 - acc: 0.9659 - val_loss: 0.7151 - val_acc: 0.8058\n",
      "Epoch 5/5\n",
      "493/493 [==============================] - 2s 3ms/step - loss: 0.1020 - acc: 0.9662 - val_loss: 0.6956 - val_acc: 0.8193\n"
     ]
    }
   ],
   "source": [
    "units = 2**4\n",
    "epochs = 5\n",
    "batch_size = 2**8\n",
    "lr = 1e-2 # default for Adam 1e-3\n",
    "dropout = 0.5\n",
    "\n",
    "def run_model(units, epochs, batch_size,lr, dropout):\n",
    "    # ML Model\n",
    "    model = Sequential()\n",
    "    model.add(layers.Dropout(dropout/2))\n",
    "    model.add(layers.Dense(units, input_shape=(train_X.shape[1],),kernel_initializer='random_normal',kernel_regularizer=regularizers.l2(1e-4),activation='relu'))\n",
    "    model.add(layers.Dropout(dropout))\n",
    "    model.add(layers.Dense(2, activation='softmax'))\n",
    "\n",
    "    #print(model.summary())\n",
    "\n",
    "    # Compile model\n",
    "    model.compile(optimizer=Adam(lr=lr), loss='categorical_crossentropy', metrics=['acc'])\n",
    "    history = model.fit(train_X, train_Y, epochs=epochs, batch_size=batch_size, validation_data=(test_X, test_Y))\n",
    "    return model, history\n",
    "\n",
    "m, h = run_model(units, epochs, batch_size,lr, dropout)"
   ]
  },
  {
   "cell_type": "code",
   "execution_count": 162,
   "metadata": {},
   "outputs": [],
   "source": [
    "val_acc = [0]\n",
    "#while (val_acc[-1] < 0.90):\n",
    "val_acc = h.history.get('val_acc')\n",
    "#print(val_acc)\n",
    "    \n",
    "    \n",
    "loss = h.history.get('loss')\n",
    "acc = h.history.get('acc')\n",
    "val_loss = h.history.get('val_loss')\n",
    "ep = range(1,len(acc)+1)"
   ]
  },
  {
   "cell_type": "code",
   "execution_count": 163,
   "metadata": {},
   "outputs": [
    {
     "data": {
      "text/plain": [
       "<matplotlib.legend.Legend at 0x14841c8d0>"
      ]
     },
     "execution_count": 163,
     "metadata": {},
     "output_type": "execute_result"
    },
    {
     "data": {
      "image/png": "[encoded data removed]",
      "text/plain": [
       "<Figure size 432x288 with 1 Axes>"
      ]
     },
     "metadata": {
      "needs_background": "light"
     },
     "output_type": "display_data"
    }
   ],
   "source": [
    "plt.plot(ep, acc,label='acc')\n",
    "plt.plot(ep, val_acc, label='val_acc')\n",
    "plt.legend(loc='best')"
   ]
  },
  {
   "cell_type": "code",
   "execution_count": 164,
   "metadata": {},
   "outputs": [
    {
     "data": {
      "text/plain": [
       "<matplotlib.legend.Legend at 0x149ea6160>"
      ]
     },
     "execution_count": 164,
     "metadata": {},
     "output_type": "execute_result"
    },
    {
     "data": {
      "image/png": "[encoded data removed]",
      "text/plain": [
       "<Figure size 432x288 with 1 Axes>"
      ]
     },
     "metadata": {
      "needs_background": "light"
     },
     "output_type": "display_data"
    }
   ],
   "source": [
    "plt.plot(ep, loss,label='loss')\n",
    "plt.plot(ep, val_loss,label='val_loss')\n",
    "plt.legend(loc='best')"
   ]
  },
  {
   "cell_type": "code",
   "execution_count": 28,
   "metadata": {},
   "outputs": [],
   "source": [
    "#train_Y = [1. if r == 'attack' else 0. for r in train_Y]\n",
    "#test_Y = [1. if r == 'attack' else 0. for r in test_Y]\n",
    "#train_Y"
   ]
  },
  {
   "cell_type": "code",
   "execution_count": null,
   "metadata": {},
   "outputs": [],
   "source": [
    "#from sklearn import svm, metrics\n",
    "#from sklearn.linear_model import LogisticRegression"
   ]
  },
  {
   "cell_type": "code",
   "execution_count": null,
   "metadata": {},
   "outputs": [],
   "source": [
    "#classifier = svm.SVC(kernel='sigmoid',C = 1e-2)"
   ]
  },
  {
   "cell_type": "code",
   "execution_count": null,
   "metadata": {},
   "outputs": [],
   "source": [
    "#classifier = LogisticRegression(penalty='l2',C = 1e-2,random_state = 0)"
   ]
  },
  {
   "cell_type": "code",
   "execution_count": null,
   "metadata": {},
   "outputs": [],
   "source": [
    "#classifier.fit(train_X, train_Y)"
   ]
  },
  {
   "cell_type": "code",
   "execution_count": null,
   "metadata": {},
   "outputs": [],
   "source": [
    "#pred_Y = classifier.predict(test_X)\n",
    "#print(\"Accuracy:\",metrics.accuracy_score(test_Y, pred_Y))\n",
    "#print(\"Precision:\",metrics.precision_score(test_Y, pred_Y))\n",
    "\n",
    "# Model Recall: what percentage of positive tuples are labelled as such?\n",
    "#print(\"Recall:\",metrics.recall_score(test_Y, pred_Y))"
   ]
  },
  {
   "cell_type": "code",
   "execution_count": 166,
   "metadata": {},
   "outputs": [],
   "source": [
    "m.save('model_82.h5')"
   ]
  }
 ],
 "metadata": {
  "kernelspec": {
   "display_name": "Python 3",
   "language": "python",
   "name": "python3"
  },
  "language_info": {
   "codemirror_mode": {
    "name": "ipython",
    "version": 3
   },
   "file_extension": ".py",
   "mimetype": "text/x-python",
   "name": "python",
   "nbconvert_exporter": "python",
   "pygments_lexer": "ipython3",
   "version": "3.7.3"
  }
 },
 "nbformat": 4,
 "nbformat_minor": 4
}
